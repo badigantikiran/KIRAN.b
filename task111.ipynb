{
  "metadata": {
    "kernelspec": {
      "name": "python",
      "display_name": "Python (Pyodide)",
      "language": "python"
    },
    "language_info": {
      "codemirror_mode": {
        "name": "python",
        "version": 3
      },
      "file_extension": ".py",
      "mimetype": "text/x-python",
      "name": "python",
      "nbconvert_exporter": "python",
      "pygments_lexer": "ipython3",
      "version": "3.8"
    }
  },
  "nbformat_minor": 4,
  "nbformat": 4,
  "cells": [
    {
      "cell_type": "code",
      "source": "# Create a list\nmy_list = [1, 2, 3, 4, 5]\n\n# Create a dictionary\nmy_dict = {'name': 'Alice', 'age': 30, 'city': 'Seattle'}\n\n# Create a set\nmy_set = {10, 20, 30, 40, 50}\n\n# Adding elements\nmy_list.append(6)\nmy_dict['gender'] = 'female'\nmy_set.add(60)\n\n# Removing elements\nmy_list.remove(3)\nmy_dict.pop('age')\nmy_set.discard(20)\n\n# Modifying elements\nmy_list[1] = 22\nmy_dict['city'] = 'Bellevue'\n\nprint(\"List:\", my_list)\nprint(\"Dictionary:\", my_dict)\nprint(\"Set:\", my_set)",
      "metadata": {
        "trusted": true
      },
      "outputs": [
        {
          "name": "stdout",
          "text": "List: [1, 22, 4, 5, 6]\nDictionary: {'name': 'Alice', 'city': 'Bellevue', 'gender': 'female'}\nSet: {50, 40, 10, 60, 30}\n",
          "output_type": "stream"
        }
      ],
      "execution_count": 3
    },
    {
      "cell_type": "code",
      "source": "",
      "metadata": {
        "trusted": true
      },
      "outputs": [],
      "execution_count": null
    },
    {
      "cell_type": "code",
      "source": "",
      "metadata": {
        "trusted": true
      },
      "outputs": [],
      "execution_count": null
    }
  ]
}